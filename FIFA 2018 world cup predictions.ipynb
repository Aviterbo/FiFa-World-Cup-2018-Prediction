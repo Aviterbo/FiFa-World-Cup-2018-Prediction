{
 "cells": [
  {
   "cell_type": "markdown",
   "metadata": {},
   "source": [
    "**Objective**: to create a Machine Learning model capable of predicting the outcomes of football games in the 2018 FIFA World Cup.\n",
    "\n",
    "**Features**: Results of historical matches since the beginning of the championship (1930) for all participating teams."
   ]
  },
  {
   "cell_type": "markdown",
   "metadata": {},
   "source": [
    "First step: import the necessary packages and read the files into pandas Dataframes\n",
    "Dataset results taken from Kaggle consists of a historical records of roughly all international matches played since... well, since the origins of football!"
   ]
  },
  {
   "cell_type": "code",
   "execution_count": 234,
   "metadata": {
    "collapsed": true
   },
   "outputs": [],
   "source": [
    "# Import packages\n",
    "import numpy as np\n",
    "import pandas as pd\n",
    "import matplotlib.pyplot as plt\n",
    "import seaborn as sns"
   ]
  },
  {
   "cell_type": "code",
   "execution_count": 235,
   "metadata": {
    "collapsed": true
   },
   "outputs": [],
   "source": [
    "# Read .csv files\n",
    "results = pd.read_csv('datasets/results.csv')"
   ]
  },
  {
   "cell_type": "code",
   "execution_count": 236,
   "metadata": {
    "collapsed": false
   },
   "outputs": [
    {
     "data": {
      "text/html": [
       "<div>\n",
       "<table border=\"1\" class=\"dataframe\">\n",
       "  <thead>\n",
       "    <tr style=\"text-align: right;\">\n",
       "      <th></th>\n",
       "      <th>date</th>\n",
       "      <th>home_team</th>\n",
       "      <th>away_team</th>\n",
       "      <th>home_score</th>\n",
       "      <th>away_score</th>\n",
       "      <th>tournament</th>\n",
       "      <th>city</th>\n",
       "      <th>country</th>\n",
       "    </tr>\n",
       "  </thead>\n",
       "  <tbody>\n",
       "    <tr>\n",
       "      <th>0</th>\n",
       "      <td>1872-11-30</td>\n",
       "      <td>Scotland</td>\n",
       "      <td>England</td>\n",
       "      <td>0</td>\n",
       "      <td>0</td>\n",
       "      <td>Friendly</td>\n",
       "      <td>Glasgow</td>\n",
       "      <td>Scotland</td>\n",
       "    </tr>\n",
       "    <tr>\n",
       "      <th>1</th>\n",
       "      <td>1873-03-08</td>\n",
       "      <td>England</td>\n",
       "      <td>Scotland</td>\n",
       "      <td>4</td>\n",
       "      <td>2</td>\n",
       "      <td>Friendly</td>\n",
       "      <td>London</td>\n",
       "      <td>England</td>\n",
       "    </tr>\n",
       "    <tr>\n",
       "      <th>2</th>\n",
       "      <td>1874-03-07</td>\n",
       "      <td>Scotland</td>\n",
       "      <td>England</td>\n",
       "      <td>2</td>\n",
       "      <td>1</td>\n",
       "      <td>Friendly</td>\n",
       "      <td>Glasgow</td>\n",
       "      <td>Scotland</td>\n",
       "    </tr>\n",
       "    <tr>\n",
       "      <th>3</th>\n",
       "      <td>1875-03-06</td>\n",
       "      <td>England</td>\n",
       "      <td>Scotland</td>\n",
       "      <td>2</td>\n",
       "      <td>2</td>\n",
       "      <td>Friendly</td>\n",
       "      <td>London</td>\n",
       "      <td>England</td>\n",
       "    </tr>\n",
       "    <tr>\n",
       "      <th>4</th>\n",
       "      <td>1876-03-04</td>\n",
       "      <td>Scotland</td>\n",
       "      <td>England</td>\n",
       "      <td>3</td>\n",
       "      <td>0</td>\n",
       "      <td>Friendly</td>\n",
       "      <td>Glasgow</td>\n",
       "      <td>Scotland</td>\n",
       "    </tr>\n",
       "  </tbody>\n",
       "</table>\n",
       "</div>"
      ],
      "text/plain": [
       "         date home_team away_team  home_score  away_score tournament     city  \\\n",
       "0  1872-11-30  Scotland   England           0           0   Friendly  Glasgow   \n",
       "1  1873-03-08   England  Scotland           4           2   Friendly   London   \n",
       "2  1874-03-07  Scotland   England           2           1   Friendly  Glasgow   \n",
       "3  1875-03-06   England  Scotland           2           2   Friendly   London   \n",
       "4  1876-03-04  Scotland   England           3           0   Friendly  Glasgow   \n",
       "\n",
       "    country  \n",
       "0  Scotland  \n",
       "1   England  \n",
       "2  Scotland  \n",
       "3   England  \n",
       "4  Scotland  "
      ]
     },
     "execution_count": 236,
     "metadata": {},
     "output_type": "execute_result"
    }
   ],
   "source": [
    "results.head()"
   ]
  },
  {
   "cell_type": "markdown",
   "metadata": {},
   "source": [
    "## Data Exploration and Manipulation"
   ]
  },
  {
   "cell_type": "code",
   "execution_count": 237,
   "metadata": {
    "collapsed": false
   },
   "outputs": [
    {
     "name": "stdout",
     "output_type": "stream",
     "text": [
      "<class 'pandas.core.frame.DataFrame'>\n",
      "RangeIndex: 38902 entries, 0 to 38901\n",
      "Data columns (total 8 columns):\n",
      "date          38902 non-null object\n",
      "home_team     38902 non-null object\n",
      "away_team     38902 non-null object\n",
      "home_score    38902 non-null int64\n",
      "away_score    38902 non-null int64\n",
      "tournament    38902 non-null object\n",
      "city          38902 non-null object\n",
      "country       38902 non-null object\n",
      "dtypes: int64(2), object(6)\n",
      "memory usage: 2.4+ MB\n"
     ]
    }
   ],
   "source": [
    "results.info()"
   ]
  },
  {
   "cell_type": "markdown",
   "metadata": {},
   "source": [
    "**Feature Engineering**:Doing Feature Engineering and adding three more columns to the dataframe as a features which are winning_team,goal_difference and match_year"
   ]
  },
  {
   "cell_type": "code",
   "execution_count": 238,
   "metadata": {
    "collapsed": false
   },
   "outputs": [
    {
     "data": {
      "text/html": [
       "<div>\n",
       "<table border=\"1\" class=\"dataframe\">\n",
       "  <thead>\n",
       "    <tr style=\"text-align: right;\">\n",
       "      <th></th>\n",
       "      <th>date</th>\n",
       "      <th>home_team</th>\n",
       "      <th>away_team</th>\n",
       "      <th>home_score</th>\n",
       "      <th>away_score</th>\n",
       "      <th>tournament</th>\n",
       "      <th>city</th>\n",
       "      <th>country</th>\n",
       "      <th>winning_team</th>\n",
       "      <th>goal_difference</th>\n",
       "    </tr>\n",
       "  </thead>\n",
       "  <tbody>\n",
       "    <tr>\n",
       "      <th>0</th>\n",
       "      <td>1872-11-30</td>\n",
       "      <td>Scotland</td>\n",
       "      <td>England</td>\n",
       "      <td>0</td>\n",
       "      <td>0</td>\n",
       "      <td>Friendly</td>\n",
       "      <td>Glasgow</td>\n",
       "      <td>Scotland</td>\n",
       "      <td>Tie</td>\n",
       "      <td>0</td>\n",
       "    </tr>\n",
       "    <tr>\n",
       "      <th>1</th>\n",
       "      <td>1873-03-08</td>\n",
       "      <td>England</td>\n",
       "      <td>Scotland</td>\n",
       "      <td>4</td>\n",
       "      <td>2</td>\n",
       "      <td>Friendly</td>\n",
       "      <td>London</td>\n",
       "      <td>England</td>\n",
       "      <td>England</td>\n",
       "      <td>2</td>\n",
       "    </tr>\n",
       "    <tr>\n",
       "      <th>2</th>\n",
       "      <td>1874-03-07</td>\n",
       "      <td>Scotland</td>\n",
       "      <td>England</td>\n",
       "      <td>2</td>\n",
       "      <td>1</td>\n",
       "      <td>Friendly</td>\n",
       "      <td>Glasgow</td>\n",
       "      <td>Scotland</td>\n",
       "      <td>Scotland</td>\n",
       "      <td>1</td>\n",
       "    </tr>\n",
       "    <tr>\n",
       "      <th>3</th>\n",
       "      <td>1875-03-06</td>\n",
       "      <td>England</td>\n",
       "      <td>Scotland</td>\n",
       "      <td>2</td>\n",
       "      <td>2</td>\n",
       "      <td>Friendly</td>\n",
       "      <td>London</td>\n",
       "      <td>England</td>\n",
       "      <td>Tie</td>\n",
       "      <td>0</td>\n",
       "    </tr>\n",
       "    <tr>\n",
       "      <th>4</th>\n",
       "      <td>1876-03-04</td>\n",
       "      <td>Scotland</td>\n",
       "      <td>England</td>\n",
       "      <td>3</td>\n",
       "      <td>0</td>\n",
       "      <td>Friendly</td>\n",
       "      <td>Glasgow</td>\n",
       "      <td>Scotland</td>\n",
       "      <td>Scotland</td>\n",
       "      <td>3</td>\n",
       "    </tr>\n",
       "  </tbody>\n",
       "</table>\n",
       "</div>"
      ],
      "text/plain": [
       "         date home_team away_team  home_score  away_score tournament     city  \\\n",
       "0  1872-11-30  Scotland   England           0           0   Friendly  Glasgow   \n",
       "1  1873-03-08   England  Scotland           4           2   Friendly   London   \n",
       "2  1874-03-07  Scotland   England           2           1   Friendly  Glasgow   \n",
       "3  1875-03-06   England  Scotland           2           2   Friendly   London   \n",
       "4  1876-03-04  Scotland   England           3           0   Friendly  Glasgow   \n",
       "\n",
       "    country winning_team  goal_difference  \n",
       "0  Scotland          Tie                0  \n",
       "1   England      England                2  \n",
       "2  Scotland     Scotland                1  \n",
       "3   England          Tie                0  \n",
       "4  Scotland     Scotland                3  "
      ]
     },
     "execution_count": 238,
     "metadata": {},
     "output_type": "execute_result"
    }
   ],
   "source": [
    "# Adding new column for winner of each match\n",
    "winner = []\n",
    "for i in range(len(results['home_team'])):\n",
    "    if results['home_score'][i] > results['away_score'][i]:\n",
    "        winner.append(results['home_team'][i])\n",
    "    elif results['home_score'][i] < results['away_score'][i]:\n",
    "        winner.append(results['away_team'][i])\n",
    "    else:\n",
    "        winner.append('Tie')\n",
    "results['winning_team'] = winner\n",
    "\n",
    "# Adding new column for goal difference in matches\n",
    "results['goal_difference'] = np.absolute(results['home_score'] - results['away_score'])\n",
    "\n",
    "results.head()"
   ]
  },
  {
   "cell_type": "code",
   "execution_count": 239,
   "metadata": {
    "collapsed": false
   },
   "outputs": [],
   "source": [
    "# Loop for creating a new column 'year'\n",
    "year = []\n",
    "for row in results['date']:\n",
    "    year.append(int(row[:4]))\n",
    "results['match_year'] = year"
   ]
  },
  {
   "cell_type": "code",
   "execution_count": 240,
   "metadata": {
    "collapsed": false
   },
   "outputs": [
    {
     "data": {
      "text/html": [
       "<div>\n",
       "<table border=\"1\" class=\"dataframe\">\n",
       "  <thead>\n",
       "    <tr style=\"text-align: right;\">\n",
       "      <th></th>\n",
       "      <th>date</th>\n",
       "      <th>home_team</th>\n",
       "      <th>away_team</th>\n",
       "      <th>home_score</th>\n",
       "      <th>away_score</th>\n",
       "      <th>tournament</th>\n",
       "      <th>city</th>\n",
       "      <th>country</th>\n",
       "      <th>winning_team</th>\n",
       "      <th>goal_difference</th>\n",
       "      <th>match_year</th>\n",
       "    </tr>\n",
       "  </thead>\n",
       "  <tbody>\n",
       "    <tr>\n",
       "      <th>0</th>\n",
       "      <td>1872-11-30</td>\n",
       "      <td>Scotland</td>\n",
       "      <td>England</td>\n",
       "      <td>0</td>\n",
       "      <td>0</td>\n",
       "      <td>Friendly</td>\n",
       "      <td>Glasgow</td>\n",
       "      <td>Scotland</td>\n",
       "      <td>Tie</td>\n",
       "      <td>0</td>\n",
       "      <td>1872</td>\n",
       "    </tr>\n",
       "    <tr>\n",
       "      <th>1</th>\n",
       "      <td>1873-03-08</td>\n",
       "      <td>England</td>\n",
       "      <td>Scotland</td>\n",
       "      <td>4</td>\n",
       "      <td>2</td>\n",
       "      <td>Friendly</td>\n",
       "      <td>London</td>\n",
       "      <td>England</td>\n",
       "      <td>England</td>\n",
       "      <td>2</td>\n",
       "      <td>1873</td>\n",
       "    </tr>\n",
       "    <tr>\n",
       "      <th>2</th>\n",
       "      <td>1874-03-07</td>\n",
       "      <td>Scotland</td>\n",
       "      <td>England</td>\n",
       "      <td>2</td>\n",
       "      <td>1</td>\n",
       "      <td>Friendly</td>\n",
       "      <td>Glasgow</td>\n",
       "      <td>Scotland</td>\n",
       "      <td>Scotland</td>\n",
       "      <td>1</td>\n",
       "      <td>1874</td>\n",
       "    </tr>\n",
       "    <tr>\n",
       "      <th>3</th>\n",
       "      <td>1875-03-06</td>\n",
       "      <td>England</td>\n",
       "      <td>Scotland</td>\n",
       "      <td>2</td>\n",
       "      <td>2</td>\n",
       "      <td>Friendly</td>\n",
       "      <td>London</td>\n",
       "      <td>England</td>\n",
       "      <td>Tie</td>\n",
       "      <td>0</td>\n",
       "      <td>1875</td>\n",
       "    </tr>\n",
       "    <tr>\n",
       "      <th>4</th>\n",
       "      <td>1876-03-04</td>\n",
       "      <td>Scotland</td>\n",
       "      <td>England</td>\n",
       "      <td>3</td>\n",
       "      <td>0</td>\n",
       "      <td>Friendly</td>\n",
       "      <td>Glasgow</td>\n",
       "      <td>Scotland</td>\n",
       "      <td>Scotland</td>\n",
       "      <td>3</td>\n",
       "      <td>1876</td>\n",
       "    </tr>\n",
       "  </tbody>\n",
       "</table>\n",
       "</div>"
      ],
      "text/plain": [
       "         date home_team away_team  home_score  away_score tournament     city  \\\n",
       "0  1872-11-30  Scotland   England           0           0   Friendly  Glasgow   \n",
       "1  1873-03-08   England  Scotland           4           2   Friendly   London   \n",
       "2  1874-03-07  Scotland   England           2           1   Friendly  Glasgow   \n",
       "3  1875-03-06   England  Scotland           2           2   Friendly   London   \n",
       "4  1876-03-04  Scotland   England           3           0   Friendly  Glasgow   \n",
       "\n",
       "    country winning_team  goal_difference  match_year  \n",
       "0  Scotland          Tie                0        1872  \n",
       "1   England      England                2        1873  \n",
       "2  Scotland     Scotland                1        1874  \n",
       "3   England          Tie                0        1875  \n",
       "4  Scotland     Scotland                3        1876  "
      ]
     },
     "execution_count": 240,
     "metadata": {},
     "output_type": "execute_result"
    }
   ],
   "source": [
    "results.head()"
   ]
  },
  {
   "cell_type": "markdown",
   "metadata": {},
   "source": [
    " prediction variable is **winning_team\n",
    " 1-->Tie  2-->Home team won  0-->Away Team Won**"
   ]
  },
  {
   "cell_type": "code",
   "execution_count": 241,
   "metadata": {
    "collapsed": false
   },
   "outputs": [],
   "source": [
    "# our prediction variable is winning_team\n",
    "results = results.reset_index(drop=True)\n",
    "results.loc[results.winning_team == results.home_team, 'winning_team']= 2\n",
    "results.loc[results.winning_team == 'Tie', 'winning_team']= 1\n",
    "results.loc[results.winning_team == results.away_team, 'winning_team']= 0"
   ]
  },
  {
   "cell_type": "code",
   "execution_count": 242,
   "metadata": {
    "collapsed": false
   },
   "outputs": [
    {
     "data": {
      "text/html": [
       "<div>\n",
       "<table border=\"1\" class=\"dataframe\">\n",
       "  <thead>\n",
       "    <tr style=\"text-align: right;\">\n",
       "      <th></th>\n",
       "      <th>date</th>\n",
       "      <th>home_team</th>\n",
       "      <th>away_team</th>\n",
       "      <th>home_score</th>\n",
       "      <th>away_score</th>\n",
       "      <th>tournament</th>\n",
       "      <th>city</th>\n",
       "      <th>country</th>\n",
       "      <th>winning_team</th>\n",
       "      <th>goal_difference</th>\n",
       "      <th>match_year</th>\n",
       "    </tr>\n",
       "  </thead>\n",
       "  <tbody>\n",
       "    <tr>\n",
       "      <th>0</th>\n",
       "      <td>1872-11-30</td>\n",
       "      <td>Scotland</td>\n",
       "      <td>England</td>\n",
       "      <td>0</td>\n",
       "      <td>0</td>\n",
       "      <td>Friendly</td>\n",
       "      <td>Glasgow</td>\n",
       "      <td>Scotland</td>\n",
       "      <td>1</td>\n",
       "      <td>0</td>\n",
       "      <td>1872</td>\n",
       "    </tr>\n",
       "    <tr>\n",
       "      <th>1</th>\n",
       "      <td>1873-03-08</td>\n",
       "      <td>England</td>\n",
       "      <td>Scotland</td>\n",
       "      <td>4</td>\n",
       "      <td>2</td>\n",
       "      <td>Friendly</td>\n",
       "      <td>London</td>\n",
       "      <td>England</td>\n",
       "      <td>2</td>\n",
       "      <td>2</td>\n",
       "      <td>1873</td>\n",
       "    </tr>\n",
       "    <tr>\n",
       "      <th>2</th>\n",
       "      <td>1874-03-07</td>\n",
       "      <td>Scotland</td>\n",
       "      <td>England</td>\n",
       "      <td>2</td>\n",
       "      <td>1</td>\n",
       "      <td>Friendly</td>\n",
       "      <td>Glasgow</td>\n",
       "      <td>Scotland</td>\n",
       "      <td>2</td>\n",
       "      <td>1</td>\n",
       "      <td>1874</td>\n",
       "    </tr>\n",
       "    <tr>\n",
       "      <th>3</th>\n",
       "      <td>1875-03-06</td>\n",
       "      <td>England</td>\n",
       "      <td>Scotland</td>\n",
       "      <td>2</td>\n",
       "      <td>2</td>\n",
       "      <td>Friendly</td>\n",
       "      <td>London</td>\n",
       "      <td>England</td>\n",
       "      <td>1</td>\n",
       "      <td>0</td>\n",
       "      <td>1875</td>\n",
       "    </tr>\n",
       "    <tr>\n",
       "      <th>4</th>\n",
       "      <td>1876-03-04</td>\n",
       "      <td>Scotland</td>\n",
       "      <td>England</td>\n",
       "      <td>3</td>\n",
       "      <td>0</td>\n",
       "      <td>Friendly</td>\n",
       "      <td>Glasgow</td>\n",
       "      <td>Scotland</td>\n",
       "      <td>2</td>\n",
       "      <td>3</td>\n",
       "      <td>1876</td>\n",
       "    </tr>\n",
       "    <tr>\n",
       "      <th>5</th>\n",
       "      <td>1876-03-25</td>\n",
       "      <td>Scotland</td>\n",
       "      <td>Wales</td>\n",
       "      <td>4</td>\n",
       "      <td>0</td>\n",
       "      <td>Friendly</td>\n",
       "      <td>Glasgow</td>\n",
       "      <td>Scotland</td>\n",
       "      <td>2</td>\n",
       "      <td>4</td>\n",
       "      <td>1876</td>\n",
       "    </tr>\n",
       "    <tr>\n",
       "      <th>6</th>\n",
       "      <td>1877-03-03</td>\n",
       "      <td>England</td>\n",
       "      <td>Scotland</td>\n",
       "      <td>1</td>\n",
       "      <td>3</td>\n",
       "      <td>Friendly</td>\n",
       "      <td>London</td>\n",
       "      <td>England</td>\n",
       "      <td>0</td>\n",
       "      <td>2</td>\n",
       "      <td>1877</td>\n",
       "    </tr>\n",
       "    <tr>\n",
       "      <th>7</th>\n",
       "      <td>1877-03-05</td>\n",
       "      <td>Wales</td>\n",
       "      <td>Scotland</td>\n",
       "      <td>0</td>\n",
       "      <td>2</td>\n",
       "      <td>Friendly</td>\n",
       "      <td>Wrexham</td>\n",
       "      <td>Wales</td>\n",
       "      <td>0</td>\n",
       "      <td>2</td>\n",
       "      <td>1877</td>\n",
       "    </tr>\n",
       "    <tr>\n",
       "      <th>8</th>\n",
       "      <td>1878-03-02</td>\n",
       "      <td>Scotland</td>\n",
       "      <td>England</td>\n",
       "      <td>7</td>\n",
       "      <td>2</td>\n",
       "      <td>Friendly</td>\n",
       "      <td>Glasgow</td>\n",
       "      <td>Scotland</td>\n",
       "      <td>2</td>\n",
       "      <td>5</td>\n",
       "      <td>1878</td>\n",
       "    </tr>\n",
       "    <tr>\n",
       "      <th>9</th>\n",
       "      <td>1878-03-23</td>\n",
       "      <td>Scotland</td>\n",
       "      <td>Wales</td>\n",
       "      <td>9</td>\n",
       "      <td>0</td>\n",
       "      <td>Friendly</td>\n",
       "      <td>Glasgow</td>\n",
       "      <td>Scotland</td>\n",
       "      <td>2</td>\n",
       "      <td>9</td>\n",
       "      <td>1878</td>\n",
       "    </tr>\n",
       "  </tbody>\n",
       "</table>\n",
       "</div>"
      ],
      "text/plain": [
       "         date home_team away_team  home_score  away_score tournament     city  \\\n",
       "0  1872-11-30  Scotland   England           0           0   Friendly  Glasgow   \n",
       "1  1873-03-08   England  Scotland           4           2   Friendly   London   \n",
       "2  1874-03-07  Scotland   England           2           1   Friendly  Glasgow   \n",
       "3  1875-03-06   England  Scotland           2           2   Friendly   London   \n",
       "4  1876-03-04  Scotland   England           3           0   Friendly  Glasgow   \n",
       "5  1876-03-25  Scotland     Wales           4           0   Friendly  Glasgow   \n",
       "6  1877-03-03   England  Scotland           1           3   Friendly   London   \n",
       "7  1877-03-05     Wales  Scotland           0           2   Friendly  Wrexham   \n",
       "8  1878-03-02  Scotland   England           7           2   Friendly  Glasgow   \n",
       "9  1878-03-23  Scotland     Wales           9           0   Friendly  Glasgow   \n",
       "\n",
       "    country winning_team  goal_difference  match_year  \n",
       "0  Scotland            1                0        1872  \n",
       "1   England            2                2        1873  \n",
       "2  Scotland            2                1        1874  \n",
       "3   England            1                0        1875  \n",
       "4  Scotland            2                3        1876  \n",
       "5  Scotland            2                4        1876  \n",
       "6   England            0                2        1877  \n",
       "7     Wales            0                2        1877  \n",
       "8  Scotland            2                5        1878  \n",
       "9  Scotland            2                9        1878  "
      ]
     },
     "execution_count": 242,
     "metadata": {},
     "output_type": "execute_result"
    }
   ],
   "source": [
    "results.head(10)"
   ]
  },
  {
   "cell_type": "code",
   "execution_count": 243,
   "metadata": {
    "collapsed": true
   },
   "outputs": [],
   "source": [
    "dataset=results"
   ]
  },
  {
   "cell_type": "code",
   "execution_count": 244,
   "metadata": {
    "collapsed": false
   },
   "outputs": [
    {
     "data": {
      "text/plain": [
       "Index(['date', 'home_team', 'away_team', 'home_score', 'away_score',\n",
       "       'tournament', 'city', 'country', 'winning_team', 'goal_difference',\n",
       "       'match_year'],\n",
       "      dtype='object')"
      ]
     },
     "execution_count": 244,
     "metadata": {},
     "output_type": "execute_result"
    }
   ],
   "source": [
    "dataset.columns"
   ]
  },
  {
   "cell_type": "markdown",
   "metadata": {},
   "source": [
    "All seems to be well. We have a dataset of a reasonable size to train our model. Now, let's drop all the columns we are not going to use (unfortunately, the majority of them)."
   ]
  },
  {
   "cell_type": "code",
   "execution_count": 245,
   "metadata": {
    "collapsed": false
   },
   "outputs": [],
   "source": [
    "dataset = dataset.drop(['date'],axis=1)"
   ]
  },
  {
   "cell_type": "code",
   "execution_count": 246,
   "metadata": {
    "collapsed": false
   },
   "outputs": [
    {
     "data": {
      "text/html": [
       "<div>\n",
       "<table border=\"1\" class=\"dataframe\">\n",
       "  <thead>\n",
       "    <tr style=\"text-align: right;\">\n",
       "      <th></th>\n",
       "      <th>home_team</th>\n",
       "      <th>away_team</th>\n",
       "      <th>home_score</th>\n",
       "      <th>away_score</th>\n",
       "      <th>tournament</th>\n",
       "      <th>city</th>\n",
       "      <th>country</th>\n",
       "      <th>winning_team</th>\n",
       "      <th>goal_difference</th>\n",
       "      <th>match_year</th>\n",
       "    </tr>\n",
       "  </thead>\n",
       "  <tbody>\n",
       "    <tr>\n",
       "      <th>0</th>\n",
       "      <td>Scotland</td>\n",
       "      <td>England</td>\n",
       "      <td>0</td>\n",
       "      <td>0</td>\n",
       "      <td>Friendly</td>\n",
       "      <td>Glasgow</td>\n",
       "      <td>Scotland</td>\n",
       "      <td>1</td>\n",
       "      <td>0</td>\n",
       "      <td>1872</td>\n",
       "    </tr>\n",
       "    <tr>\n",
       "      <th>1</th>\n",
       "      <td>England</td>\n",
       "      <td>Scotland</td>\n",
       "      <td>4</td>\n",
       "      <td>2</td>\n",
       "      <td>Friendly</td>\n",
       "      <td>London</td>\n",
       "      <td>England</td>\n",
       "      <td>2</td>\n",
       "      <td>2</td>\n",
       "      <td>1873</td>\n",
       "    </tr>\n",
       "    <tr>\n",
       "      <th>2</th>\n",
       "      <td>Scotland</td>\n",
       "      <td>England</td>\n",
       "      <td>2</td>\n",
       "      <td>1</td>\n",
       "      <td>Friendly</td>\n",
       "      <td>Glasgow</td>\n",
       "      <td>Scotland</td>\n",
       "      <td>2</td>\n",
       "      <td>1</td>\n",
       "      <td>1874</td>\n",
       "    </tr>\n",
       "    <tr>\n",
       "      <th>3</th>\n",
       "      <td>England</td>\n",
       "      <td>Scotland</td>\n",
       "      <td>2</td>\n",
       "      <td>2</td>\n",
       "      <td>Friendly</td>\n",
       "      <td>London</td>\n",
       "      <td>England</td>\n",
       "      <td>1</td>\n",
       "      <td>0</td>\n",
       "      <td>1875</td>\n",
       "    </tr>\n",
       "    <tr>\n",
       "      <th>4</th>\n",
       "      <td>Scotland</td>\n",
       "      <td>England</td>\n",
       "      <td>3</td>\n",
       "      <td>0</td>\n",
       "      <td>Friendly</td>\n",
       "      <td>Glasgow</td>\n",
       "      <td>Scotland</td>\n",
       "      <td>2</td>\n",
       "      <td>3</td>\n",
       "      <td>1876</td>\n",
       "    </tr>\n",
       "  </tbody>\n",
       "</table>\n",
       "</div>"
      ],
      "text/plain": [
       "  home_team away_team  home_score  away_score tournament     city   country  \\\n",
       "0  Scotland   England           0           0   Friendly  Glasgow  Scotland   \n",
       "1   England  Scotland           4           2   Friendly   London   England   \n",
       "2  Scotland   England           2           1   Friendly  Glasgow  Scotland   \n",
       "3   England  Scotland           2           2   Friendly   London   England   \n",
       "4  Scotland   England           3           0   Friendly  Glasgow  Scotland   \n",
       "\n",
       "  winning_team  goal_difference  match_year  \n",
       "0            1                0        1872  \n",
       "1            2                2        1873  \n",
       "2            2                1        1874  \n",
       "3            1                0        1875  \n",
       "4            2                3        1876  "
      ]
     },
     "execution_count": 246,
     "metadata": {},
     "output_type": "execute_result"
    }
   ],
   "source": [
    "dataset.head(5)"
   ]
  },
  {
   "cell_type": "code",
   "execution_count": 247,
   "metadata": {
    "collapsed": true
   },
   "outputs": [],
   "source": [
    "dataset=dataset.drop(['tournament','city','country'],axis=1)"
   ]
  },
  {
   "cell_type": "code",
   "execution_count": 248,
   "metadata": {
    "collapsed": false
   },
   "outputs": [
    {
     "data": {
      "text/html": [
       "<div>\n",
       "<table border=\"1\" class=\"dataframe\">\n",
       "  <thead>\n",
       "    <tr style=\"text-align: right;\">\n",
       "      <th></th>\n",
       "      <th>home_team</th>\n",
       "      <th>away_team</th>\n",
       "      <th>home_score</th>\n",
       "      <th>away_score</th>\n",
       "      <th>winning_team</th>\n",
       "      <th>goal_difference</th>\n",
       "      <th>match_year</th>\n",
       "    </tr>\n",
       "  </thead>\n",
       "  <tbody>\n",
       "    <tr>\n",
       "      <th>0</th>\n",
       "      <td>Scotland</td>\n",
       "      <td>England</td>\n",
       "      <td>0</td>\n",
       "      <td>0</td>\n",
       "      <td>1</td>\n",
       "      <td>0</td>\n",
       "      <td>1872</td>\n",
       "    </tr>\n",
       "    <tr>\n",
       "      <th>1</th>\n",
       "      <td>England</td>\n",
       "      <td>Scotland</td>\n",
       "      <td>4</td>\n",
       "      <td>2</td>\n",
       "      <td>2</td>\n",
       "      <td>2</td>\n",
       "      <td>1873</td>\n",
       "    </tr>\n",
       "    <tr>\n",
       "      <th>2</th>\n",
       "      <td>Scotland</td>\n",
       "      <td>England</td>\n",
       "      <td>2</td>\n",
       "      <td>1</td>\n",
       "      <td>2</td>\n",
       "      <td>1</td>\n",
       "      <td>1874</td>\n",
       "    </tr>\n",
       "    <tr>\n",
       "      <th>3</th>\n",
       "      <td>England</td>\n",
       "      <td>Scotland</td>\n",
       "      <td>2</td>\n",
       "      <td>2</td>\n",
       "      <td>1</td>\n",
       "      <td>0</td>\n",
       "      <td>1875</td>\n",
       "    </tr>\n",
       "    <tr>\n",
       "      <th>4</th>\n",
       "      <td>Scotland</td>\n",
       "      <td>England</td>\n",
       "      <td>3</td>\n",
       "      <td>0</td>\n",
       "      <td>2</td>\n",
       "      <td>3</td>\n",
       "      <td>1876</td>\n",
       "    </tr>\n",
       "  </tbody>\n",
       "</table>\n",
       "</div>"
      ],
      "text/plain": [
       "  home_team away_team  home_score  away_score winning_team  goal_difference  \\\n",
       "0  Scotland   England           0           0            1                0   \n",
       "1   England  Scotland           4           2            2                2   \n",
       "2  Scotland   England           2           1            2                1   \n",
       "3   England  Scotland           2           2            1                0   \n",
       "4  Scotland   England           3           0            2                3   \n",
       "\n",
       "   match_year  \n",
       "0        1872  \n",
       "1        1873  \n",
       "2        1874  \n",
       "3        1875  \n",
       "4        1876  "
      ]
     },
     "execution_count": 248,
     "metadata": {},
     "output_type": "execute_result"
    }
   ],
   "source": [
    "dataset.head()"
   ]
  },
  {
   "cell_type": "code",
   "execution_count": 249,
   "metadata": {
    "collapsed": true
   },
   "outputs": [],
   "source": [
    "data=dataset"
   ]
  },
  {
   "cell_type": "code",
   "execution_count": 250,
   "metadata": {
    "collapsed": false
   },
   "outputs": [],
   "source": [
    "#Label Encoding of Categorical variables\n",
    "from sklearn.preprocessing import LabelEncoder\n",
    "lb=LabelEncoder()\n",
    "dataset['home_team']=lb.fit_transform(dataset['home_team'])\n",
    "dataset['away_team']=lb.fit_transform(dataset['away_team'])"
   ]
  },
  {
   "cell_type": "code",
   "execution_count": 251,
   "metadata": {
    "collapsed": false
   },
   "outputs": [
    {
     "data": {
      "text/html": [
       "<div>\n",
       "<table border=\"1\" class=\"dataframe\">\n",
       "  <thead>\n",
       "    <tr style=\"text-align: right;\">\n",
       "      <th></th>\n",
       "      <th>home_team</th>\n",
       "      <th>away_team</th>\n",
       "      <th>home_score</th>\n",
       "      <th>away_score</th>\n",
       "      <th>winning_team</th>\n",
       "      <th>goal_difference</th>\n",
       "      <th>match_year</th>\n",
       "    </tr>\n",
       "  </thead>\n",
       "  <tbody>\n",
       "    <tr>\n",
       "      <th>0</th>\n",
       "      <td>182</td>\n",
       "      <td>64</td>\n",
       "      <td>0</td>\n",
       "      <td>0</td>\n",
       "      <td>1</td>\n",
       "      <td>0</td>\n",
       "      <td>1872</td>\n",
       "    </tr>\n",
       "    <tr>\n",
       "      <th>1</th>\n",
       "      <td>64</td>\n",
       "      <td>180</td>\n",
       "      <td>4</td>\n",
       "      <td>2</td>\n",
       "      <td>2</td>\n",
       "      <td>2</td>\n",
       "      <td>1873</td>\n",
       "    </tr>\n",
       "    <tr>\n",
       "      <th>2</th>\n",
       "      <td>182</td>\n",
       "      <td>64</td>\n",
       "      <td>2</td>\n",
       "      <td>1</td>\n",
       "      <td>2</td>\n",
       "      <td>1</td>\n",
       "      <td>1874</td>\n",
       "    </tr>\n",
       "    <tr>\n",
       "      <th>3</th>\n",
       "      <td>64</td>\n",
       "      <td>180</td>\n",
       "      <td>2</td>\n",
       "      <td>2</td>\n",
       "      <td>1</td>\n",
       "      <td>0</td>\n",
       "      <td>1875</td>\n",
       "    </tr>\n",
       "    <tr>\n",
       "      <th>4</th>\n",
       "      <td>182</td>\n",
       "      <td>64</td>\n",
       "      <td>3</td>\n",
       "      <td>0</td>\n",
       "      <td>2</td>\n",
       "      <td>3</td>\n",
       "      <td>1876</td>\n",
       "    </tr>\n",
       "  </tbody>\n",
       "</table>\n",
       "</div>"
      ],
      "text/plain": [
       "   home_team  away_team  home_score  away_score winning_team  goal_difference  \\\n",
       "0        182         64           0           0            1                0   \n",
       "1         64        180           4           2            2                2   \n",
       "2        182         64           2           1            2                1   \n",
       "3         64        180           2           2            1                0   \n",
       "4        182         64           3           0            2                3   \n",
       "\n",
       "   match_year  \n",
       "0        1872  \n",
       "1        1873  \n",
       "2        1874  \n",
       "3        1875  \n",
       "4        1876  "
      ]
     },
     "execution_count": 251,
     "metadata": {},
     "output_type": "execute_result"
    }
   ],
   "source": [
    "dataset.head()"
   ]
  },
  {
   "cell_type": "markdown",
   "metadata": {},
   "source": [
    "## Visualization of Correlation Matrix"
   ]
  },
  {
   "cell_type": "code",
   "execution_count": 252,
   "metadata": {
    "collapsed": false
   },
   "outputs": [
    {
     "data": {
      "text/plain": [
       "Index(['home_team', 'away_team', 'home_score', 'away_score', 'winning_team',\n",
       "       'goal_difference', 'match_year'],\n",
       "      dtype='object')"
      ]
     },
     "execution_count": 252,
     "metadata": {},
     "output_type": "execute_result"
    }
   ],
   "source": [
    "dataset.columns"
   ]
  },
  {
   "cell_type": "code",
   "execution_count": 253,
   "metadata": {
    "collapsed": false
   },
   "outputs": [
    {
     "data": {
      "text/plain": [
       "<matplotlib.axes._subplots.AxesSubplot at 0x1be04995eb8>"
      ]
     },
     "execution_count": 253,
     "metadata": {},
     "output_type": "execute_result"
    },
    {
     "data": {
      "image/png": "[encoded data removed]",
      "text/plain": [
       "<matplotlib.figure.Figure at 0x1be03838710>"
      ]
     },
     "metadata": {},
     "output_type": "display_data"
    }
   ],
   "source": [
    "import matplotlib.pyplot as plt\n",
    "%matplotlib inline\n",
    "corrMatt = dataset[['home_team', 'away_team', 'home_score', 'away_score', 'goal_difference',\n",
    "       'match_year', 'winning_team']].corr()\n",
    "mask = np.array(corrMatt)\n",
    "mask[np.tril_indices_from(mask)] = False\n",
    "fig,ax= plt.subplots()\n",
    "fig.set_size_inches(20,10)\n",
    "sns.heatmap(corrMatt, mask=mask,vmax=.8, square=True,annot=True)"
   ]
  },
  {
   "cell_type": "markdown",
   "metadata": {},
   "source": [
    "As we can see goal_difference and home score are highy correlated so we have to remove any one but first let consider \n",
    "which variables are important are not"
   ]
  },
  {
   "cell_type": "markdown",
   "metadata": {},
   "source": [
    "## Feature Importance"
   ]
  },
  {
   "cell_type": "code",
   "execution_count": 254,
   "metadata": {
    "collapsed": true
   },
   "outputs": [],
   "source": [
    "# Separate X and y sets\n",
    "X = dataset.drop(['winning_team'], axis=1)\n",
    "y = dataset[\"winning_team\"]\n",
    "y = y.astype('int')"
   ]
  },
  {
   "cell_type": "code",
   "execution_count": 255,
   "metadata": {
    "collapsed": false
   },
   "outputs": [
    {
     "name": "stdout",
     "output_type": "stream",
     "text": [
      "Feature ranking:\n",
      "1. feature 4 (0.432247)\n",
      "2. feature 2 (0.296505)\n",
      "3. feature 3 (0.271248)\n",
      "4. feature 5 (0.000000)\n",
      "5. feature 1 (0.000000)\n",
      "6. feature 0 (0.000000)\n"
     ]
    },
    {
     "data": {
      "image/png": "[encoded data removed]",
      "text/plain": [
       "<matplotlib.figure.Figure at 0x1be04d89b38>"
      ]
     },
     "metadata": {},
     "output_type": "display_data"
    }
   ],
   "source": [
    "from sklearn import tree\n",
    "\n",
    "y = y.values\n",
    "X = X.values\n",
    "# Build a forest and compute the feature importances\n",
    "\n",
    "clf = tree.DecisionTreeClassifier(max_depth=5)\n",
    "clf.fit(X,y)\n",
    "importances = clf.feature_importances_\n",
    "\n",
    "indices = np.argsort(importances)[::-1]\n",
    "\n",
    "# Print the feature ranking\n",
    "print(\"Feature ranking:\")\n",
    "\n",
    "for f in range(X.shape[1]):\n",
    "    print(\"%d. feature %d (%f)\" % (f + 1, indices[f], importances[indices[f]]))\n",
    "\n",
    "# Plot the feature importances of the forest\n",
    "plt.figure()\n",
    "plt.title(\"Feature importances\")\n",
    "plt.bar(range(X.shape[1]), importances[indices],\n",
    "       color=\"r\", align=\"center\")\n",
    "plt.xticks(range(X.shape[1]), indices)\n",
    "plt.xlim([-1, X.shape[1]])\n",
    "plt.show()"
   ]
  },
  {
   "cell_type": "markdown",
   "metadata": {},
   "source": [
    "So Important features are\n",
    "\n",
    "1. Goal Difference\n",
    "2. Home Score\n",
    "3. Away Score"
   ]
  },
  {
   "cell_type": "code",
   "execution_count": 256,
   "metadata": {
    "collapsed": true
   },
   "outputs": [],
   "source": [
    "# Lets Consider all the features only remving match_year in the dataset\n",
    "results=results.drop(['date','match_year','tournament','city','country'],axis=1)"
   ]
  },
  {
   "cell_type": "code",
   "execution_count": 257,
   "metadata": {
    "collapsed": false
   },
   "outputs": [
    {
     "data": {
      "text/html": [
       "<div>\n",
       "<table border=\"1\" class=\"dataframe\">\n",
       "  <thead>\n",
       "    <tr style=\"text-align: right;\">\n",
       "      <th></th>\n",
       "      <th>home_team</th>\n",
       "      <th>away_team</th>\n",
       "      <th>home_score</th>\n",
       "      <th>away_score</th>\n",
       "      <th>winning_team</th>\n",
       "      <th>goal_difference</th>\n",
       "    </tr>\n",
       "  </thead>\n",
       "  <tbody>\n",
       "    <tr>\n",
       "      <th>0</th>\n",
       "      <td>Scotland</td>\n",
       "      <td>England</td>\n",
       "      <td>0</td>\n",
       "      <td>0</td>\n",
       "      <td>1</td>\n",
       "      <td>0</td>\n",
       "    </tr>\n",
       "    <tr>\n",
       "      <th>1</th>\n",
       "      <td>England</td>\n",
       "      <td>Scotland</td>\n",
       "      <td>4</td>\n",
       "      <td>2</td>\n",
       "      <td>2</td>\n",
       "      <td>2</td>\n",
       "    </tr>\n",
       "    <tr>\n",
       "      <th>2</th>\n",
       "      <td>Scotland</td>\n",
       "      <td>England</td>\n",
       "      <td>2</td>\n",
       "      <td>1</td>\n",
       "      <td>2</td>\n",
       "      <td>1</td>\n",
       "    </tr>\n",
       "    <tr>\n",
       "      <th>3</th>\n",
       "      <td>England</td>\n",
       "      <td>Scotland</td>\n",
       "      <td>2</td>\n",
       "      <td>2</td>\n",
       "      <td>1</td>\n",
       "      <td>0</td>\n",
       "    </tr>\n",
       "    <tr>\n",
       "      <th>4</th>\n",
       "      <td>Scotland</td>\n",
       "      <td>England</td>\n",
       "      <td>3</td>\n",
       "      <td>0</td>\n",
       "      <td>2</td>\n",
       "      <td>3</td>\n",
       "    </tr>\n",
       "  </tbody>\n",
       "</table>\n",
       "</div>"
      ],
      "text/plain": [
       "  home_team away_team  home_score  away_score winning_team  goal_difference\n",
       "0  Scotland   England           0           0            1                0\n",
       "1   England  Scotland           4           2            2                2\n",
       "2  Scotland   England           2           1            2                1\n",
       "3   England  Scotland           2           2            1                0\n",
       "4  Scotland   England           3           0            2                3"
      ]
     },
     "execution_count": 257,
     "metadata": {},
     "output_type": "execute_result"
    }
   ],
   "source": [
    "results.head()"
   ]
  },
  {
   "cell_type": "code",
   "execution_count": 258,
   "metadata": {
    "collapsed": true
   },
   "outputs": [],
   "source": [
    "results=results.drop(['home_score','away_score','goal_difference'],axis=1)"
   ]
  },
  {
   "cell_type": "code",
   "execution_count": 259,
   "metadata": {
    "collapsed": false
   },
   "outputs": [
    {
     "data": {
      "text/html": [
       "<div>\n",
       "<table border=\"1\" class=\"dataframe\">\n",
       "  <thead>\n",
       "    <tr style=\"text-align: right;\">\n",
       "      <th></th>\n",
       "      <th>home_team</th>\n",
       "      <th>away_team</th>\n",
       "      <th>winning_team</th>\n",
       "    </tr>\n",
       "  </thead>\n",
       "  <tbody>\n",
       "    <tr>\n",
       "      <th>0</th>\n",
       "      <td>Scotland</td>\n",
       "      <td>England</td>\n",
       "      <td>1</td>\n",
       "    </tr>\n",
       "    <tr>\n",
       "      <th>1</th>\n",
       "      <td>England</td>\n",
       "      <td>Scotland</td>\n",
       "      <td>2</td>\n",
       "    </tr>\n",
       "    <tr>\n",
       "      <th>2</th>\n",
       "      <td>Scotland</td>\n",
       "      <td>England</td>\n",
       "      <td>2</td>\n",
       "    </tr>\n",
       "    <tr>\n",
       "      <th>3</th>\n",
       "      <td>England</td>\n",
       "      <td>Scotland</td>\n",
       "      <td>1</td>\n",
       "    </tr>\n",
       "    <tr>\n",
       "      <th>4</th>\n",
       "      <td>Scotland</td>\n",
       "      <td>England</td>\n",
       "      <td>2</td>\n",
       "    </tr>\n",
       "  </tbody>\n",
       "</table>\n",
       "</div>"
      ],
      "text/plain": [
       "  home_team away_team winning_team\n",
       "0  Scotland   England            1\n",
       "1   England  Scotland            2\n",
       "2  Scotland   England            2\n",
       "3   England  Scotland            1\n",
       "4  Scotland   England            2"
      ]
     },
     "execution_count": 259,
     "metadata": {},
     "output_type": "execute_result"
    }
   ],
   "source": [
    "results.head()"
   ]
  },
  {
   "cell_type": "markdown",
   "metadata": {},
   "source": [
    "## Model Building"
   ]
  },
  {
   "cell_type": "code",
   "execution_count": 260,
   "metadata": {
    "collapsed": true
   },
   "outputs": [],
   "source": [
    "# Get dummy variables\n",
    "final = pd.get_dummies(results, prefix=['home_team', 'away_team'], columns=['home_team', 'away_team'])"
   ]
  },
  {
   "cell_type": "code",
   "execution_count": 261,
   "metadata": {
    "collapsed": true
   },
   "outputs": [],
   "source": [
    "from sklearn.model_selection import train_test_split\n",
    "\n",
    "# Separate X and y sets\n",
    "X = final.drop(['winning_team'], axis=1)\n",
    "y = final[\"winning_team\"]\n",
    "y = y.astype('int')\n",
    "\n",
    "# Separate train and test sets\n",
    "X_train, X_test, y_train, y_test = train_test_split(X, y, test_size=0.3, random_state=42)"
   ]
  },
  {
   "cell_type": "markdown",
   "metadata": {},
   "source": [
    "## Comparison of different classifiers"
   ]
  },
  {
   "cell_type": "markdown",
   "metadata": {},
   "source": [
    "### Logistic Regression"
   ]
  },
  {
   "cell_type": "code",
   "execution_count": 262,
   "metadata": {
    "collapsed": false
   },
   "outputs": [
    {
     "name": "stdout",
     "output_type": "stream",
     "text": [
      "Training set accuracy:  0.580\n",
      "Test set accuracy:  0.565\n",
      "accuracy:  0.565\n"
     ]
    }
   ],
   "source": [
    "from sklearn.linear_model import LogisticRegression\n",
    "from sklearn.metrics import accuracy_score, log_loss\n",
    "logreg = LogisticRegression()\n",
    "logreg.fit(X_train, y_train)\n",
    "score = logreg.score(X_train, y_train)\n",
    "score2 = logreg.score(X_test, y_test)\n",
    "train_predictions = logreg.predict(X_test)\n",
    "acc = accuracy_score(y_test, train_predictions)\n",
    "\n",
    "print(\"Training set accuracy: \", '%.3f'%(score))\n",
    "print(\"Test set accuracy: \", '%.3f'%(score2))\n",
    "print(\"accuracy: \", '%.3f'%(acc))"
   ]
  },
  {
   "cell_type": "code",
   "execution_count": 183,
   "metadata": {
    "collapsed": false
   },
   "outputs": [
    {
     "data": {
      "image/png": "[encoded data removed]",
      "text/plain": [
       "<matplotlib.figure.Figure at 0x1be0467b668>"
      ]
     },
     "metadata": {},
     "output_type": "display_data"
    }
   ],
   "source": [
    "from mlxtend.plotting import plot_learning_curves\n",
    "plot_learning_curves(X_train, y_train, X_test, y_test, logreg)\n",
    "plt.show()"
   ]
  },
  {
   "cell_type": "markdown",
   "metadata": {},
   "source": [
    "### Random Forest"
   ]
  },
  {
   "cell_type": "code",
   "execution_count": 184,
   "metadata": {
    "collapsed": false
   },
   "outputs": [
    {
     "name": "stdout",
     "output_type": "stream",
     "text": [
      "Training set accuracy:  0.690\n",
      "Test set accuracy:  0.505\n",
      "accuracy:  0.505\n"
     ]
    }
   ],
   "source": [
    "from sklearn.ensemble import RandomForestClassifier, AdaBoostClassifier, GradientBoostingClassifier\n",
    "clf=RandomForestClassifier()\n",
    "clf.fit(X_train, y_train)\n",
    "score = clf.score(X_train, y_train)\n",
    "score2 = clf.score(X_test, y_test)\n",
    "train_predictions = clf.predict(X_test)\n",
    "acc = accuracy_score(y_test, train_predictions)\n",
    "\n",
    "print(\"Training set accuracy: \", '%.3f'%(score))\n",
    "print(\"Test set accuracy: \", '%.3f'%(score2))\n",
    "print(\"accuracy: \", '%.3f'%(acc))"
   ]
  },
  {
   "cell_type": "code",
   "execution_count": 185,
   "metadata": {
    "collapsed": false
   },
   "outputs": [
    {
     "data": {
      "image/png": "[encoded data removed]",
      "text/plain": [
       "<matplotlib.figure.Figure at 0x1be02bf0630>"
      ]
     },
     "metadata": {},
     "output_type": "display_data"
    }
   ],
   "source": [
    "from mlxtend.plotting import plot_learning_curves\n",
    "plot_learning_curves(X_train, y_train, X_test, y_test, clf)\n",
    "plt.show()"
   ]
  },
  {
   "cell_type": "markdown",
   "metadata": {},
   "source": [
    "### AdaBoost"
   ]
  },
  {
   "cell_type": "code",
   "execution_count": 186,
   "metadata": {
    "collapsed": false
   },
   "outputs": [
    {
     "name": "stdout",
     "output_type": "stream",
     "text": [
      "Training set accuracy:  0.522\n",
      "Test set accuracy:  0.522\n",
      "accuracy:  0.522\n"
     ]
    }
   ],
   "source": [
    "clf=AdaBoostClassifier()\n",
    "clf.fit(X_train, y_train)\n",
    "score = clf.score(X_train, y_train)\n",
    "score2 = clf.score(X_test, y_test)\n",
    "train_predictions = clf.predict(X_test)\n",
    "acc = accuracy_score(y_test, train_predictions)\n",
    "\n",
    "\n",
    "\n",
    "print(\"Training set accuracy: \", '%.3f'%(score))\n",
    "print(\"Test set accuracy: \", '%.3f'%(score2))\n",
    "print(\"accuracy: \", '%.3f'%(acc))\n"
   ]
  },
  {
   "cell_type": "code",
   "execution_count": 187,
   "metadata": {
    "collapsed": false
   },
   "outputs": [
    {
     "data": {
      "image/png": "[encoded data removed]",
      "text/plain": [
       "<matplotlib.figure.Figure at 0x1be034268d0>"
      ]
     },
     "metadata": {},
     "output_type": "display_data"
    }
   ],
   "source": [
    "from mlxtend.plotting import plot_learning_curves\n",
    "plot_learning_curves(X_train, y_train, X_test, y_test, clf)\n",
    "plt.show()"
   ]
  },
  {
   "cell_type": "markdown",
   "metadata": {},
   "source": [
    "### Gradient Boosting"
   ]
  },
  {
   "cell_type": "code",
   "execution_count": 188,
   "metadata": {
    "collapsed": false
   },
   "outputs": [
    {
     "name": "stdout",
     "output_type": "stream",
     "text": [
      "Training set accuracy:  0.517\n",
      "Test set accuracy:  0.513\n",
      "accuracy:  0.513\n"
     ]
    }
   ],
   "source": [
    "clf=GradientBoostingClassifier()\n",
    "clf.fit(X_train, y_train)\n",
    "score = clf.score(X_train, y_train)\n",
    "score2 = clf.score(X_test, y_test)\n",
    "train_predictions = clf.predict(X_test)\n",
    "acc = accuracy_score(y_test, train_predictions)\n",
    "\n",
    "print(\"Training set accuracy: \", '%.3f'%(score))\n",
    "print(\"Test set accuracy: \", '%.3f'%(score2))\n",
    "print(\"accuracy: \", '%.3f'%(acc))"
   ]
  },
  {
   "cell_type": "code",
   "execution_count": 189,
   "metadata": {
    "collapsed": false
   },
   "outputs": [
    {
     "data": {
      "image/png": "[encoded data removed]",
      "text/plain": [
       "<matplotlib.figure.Figure at 0x1be043f3550>"
      ]
     },
     "metadata": {},
     "output_type": "display_data"
    }
   ],
   "source": [
    "from mlxtend.plotting import plot_learning_curves\n",
    "plot_learning_curves(X_train, y_train, X_test, y_test, clf)\n",
    "plt.show()"
   ]
  },
  {
   "cell_type": "markdown",
   "metadata": {},
   "source": [
    "### Neural Network Classifier"
   ]
  },
  {
   "cell_type": "code",
   "execution_count": 281,
   "metadata": {
    "collapsed": false
   },
   "outputs": [
    {
     "name": "stdout",
     "output_type": "stream",
     "text": [
      "Training set accuracy:  0.602\n",
      "Test set accuracy:  0.560\n",
      "accuracy:  0.560\n"
     ]
    }
   ],
   "source": [
    "from sklearn.neural_network import MLPClassifier\n",
    "clf=MLPClassifier(hidden_layer_sizes=(150, ), activation='relu', solver='adam', alpha=0.0001, batch_size='auto', \n",
    "                  learning_rate='constant', learning_rate_init=0.0001, power_t=0.5, max_iter=200, shuffle=True, random_state=None, \n",
    "                  tol=0.001, verbose=False, warm_start=False, momentum=0.9, \n",
    "                  nesterovs_momentum=True, early_stopping=False, validation_fraction=0.1, beta_1=0.9, beta_2=0.999, \n",
    "                  epsilon=1e-08)\n",
    "clf.fit(X_train, y_train)\n",
    "score = clf.score(X_train, y_train)\n",
    "score2 = clf.score(X_test, y_test)\n",
    "train_predictions = clf.predict(X_test)\n",
    "acc = accuracy_score(y_test, train_predictions)\n",
    "\n",
    "print(\"Training set accuracy: \", '%.3f'%(score))\n",
    "print(\"Test set accuracy: \", '%.3f'%(score2))\n",
    "print(\"accuracy: \", '%.3f'%(acc))"
   ]
  },
  {
   "cell_type": "markdown",
   "metadata": {},
   "source": [
    "Among all above classifiers we can say Logistic Regression Performs best as there is no Misclassification error at all. So let us consider Logistic Regression for final Prediction"
   ]
  },
  {
   "cell_type": "code",
   "execution_count": 190,
   "metadata": {
    "collapsed": false
   },
   "outputs": [
    {
     "data": {
      "text/plain": [
       "<matplotlib.axes._subplots.AxesSubplot at 0x1be044447b8>"
      ]
     },
     "execution_count": 190,
     "metadata": {},
     "output_type": "execute_result"
    },
    {
     "data": {
      "image/png": "[encoded data removed]",
      "text/plain": [
       "<matplotlib.figure.Figure at 0x1be0444a518>"
      ]
     },
     "metadata": {},
     "output_type": "display_data"
    }
   ],
   "source": [
    "sns.countplot(x='winning_team', data=results)"
   ]
  },
  {
   "cell_type": "markdown",
   "metadata": {},
   "source": [
    "We have Highest win percentage of home team from previous data"
   ]
  },
  {
   "cell_type": "markdown",
   "metadata": {},
   "source": [
    "###  Prediction for 2018 FIFA World Cup data\n"
   ]
  },
  {
   "cell_type": "code",
   "execution_count": 191,
   "metadata": {
    "collapsed": true
   },
   "outputs": [],
   "source": [
    "# Loading new datasets\n",
    "ranking = pd.read_csv('datasets/fifa_rankings.csv') # Obtained from https://us.soccerway.com/teams/rankings/fifa/?ICID=TN_03_05_01\n",
    "fixtures = pd.read_csv('datasets/fixtures.csv') # Obtained from https://fixturedownload.com/results/fifa-world-cup-2018\n",
    "\n",
    "# List for storing the group stage games\n",
    "pred_set = []"
   ]
  },
  {
   "cell_type": "code",
   "execution_count": 192,
   "metadata": {
    "collapsed": false
   },
   "outputs": [
    {
     "data": {
      "text/html": [
       "<div>\n",
       "<table border=\"1\" class=\"dataframe\">\n",
       "  <thead>\n",
       "    <tr style=\"text-align: right;\">\n",
       "      <th></th>\n",
       "      <th>Round Number</th>\n",
       "      <th>first_position</th>\n",
       "      <th>second_position</th>\n",
       "      <th>Date</th>\n",
       "      <th>Location</th>\n",
       "      <th>Home Team</th>\n",
       "      <th>Away Team</th>\n",
       "      <th>Group</th>\n",
       "      <th>Result</th>\n",
       "    </tr>\n",
       "  </thead>\n",
       "  <tbody>\n",
       "    <tr>\n",
       "      <th>43</th>\n",
       "      <td>3</td>\n",
       "      <td>6.0</td>\n",
       "      <td>25.0</td>\n",
       "      <td>27/06/2018 21:00</td>\n",
       "      <td>Nizhny Novgorod Stadium</td>\n",
       "      <td>Switzerland</td>\n",
       "      <td>Costa Rica</td>\n",
       "      <td>Group E</td>\n",
       "      <td>NaN</td>\n",
       "    </tr>\n",
       "    <tr>\n",
       "      <th>44</th>\n",
       "      <td>3</td>\n",
       "      <td>60.0</td>\n",
       "      <td>10.0</td>\n",
       "      <td>28/06/2018 17:00</td>\n",
       "      <td>Volgograd Stadium</td>\n",
       "      <td>Japan</td>\n",
       "      <td>Poland</td>\n",
       "      <td>Group H</td>\n",
       "      <td>NaN</td>\n",
       "    </tr>\n",
       "    <tr>\n",
       "      <th>45</th>\n",
       "      <td>3</td>\n",
       "      <td>28.0</td>\n",
       "      <td>16.0</td>\n",
       "      <td>28/06/2018 17:00</td>\n",
       "      <td>Samara Stadium</td>\n",
       "      <td>Senegal</td>\n",
       "      <td>Colombia</td>\n",
       "      <td>Group H</td>\n",
       "      <td>NaN</td>\n",
       "    </tr>\n",
       "    <tr>\n",
       "      <th>46</th>\n",
       "      <td>3</td>\n",
       "      <td>55.0</td>\n",
       "      <td>14.0</td>\n",
       "      <td>28/06/2018 21:00</td>\n",
       "      <td>Saransk Stadium</td>\n",
       "      <td>Panama</td>\n",
       "      <td>Tunisia</td>\n",
       "      <td>Group G</td>\n",
       "      <td>NaN</td>\n",
       "    </tr>\n",
       "    <tr>\n",
       "      <th>47</th>\n",
       "      <td>3</td>\n",
       "      <td>13.0</td>\n",
       "      <td>3.0</td>\n",
       "      <td>28/06/2018 21:00</td>\n",
       "      <td>Kaliningrad Stadium</td>\n",
       "      <td>England</td>\n",
       "      <td>Belgium</td>\n",
       "      <td>Group G</td>\n",
       "      <td>NaN</td>\n",
       "    </tr>\n",
       "  </tbody>\n",
       "</table>\n",
       "</div>"
      ],
      "text/plain": [
       "   Round Number  first_position  second_position              Date  \\\n",
       "43            3             6.0             25.0  27/06/2018 21:00   \n",
       "44            3            60.0             10.0  28/06/2018 17:00   \n",
       "45            3            28.0             16.0  28/06/2018 17:00   \n",
       "46            3            55.0             14.0  28/06/2018 21:00   \n",
       "47            3            13.0              3.0  28/06/2018 21:00   \n",
       "\n",
       "                   Location    Home Team   Away Team    Group  Result  \n",
       "43  Nizhny Novgorod Stadium  Switzerland  Costa Rica  Group E     NaN  \n",
       "44        Volgograd Stadium        Japan      Poland  Group H     NaN  \n",
       "45           Samara Stadium      Senegal    Colombia  Group H     NaN  \n",
       "46          Saransk Stadium       Panama     Tunisia  Group G     NaN  \n",
       "47      Kaliningrad Stadium      England     Belgium  Group G     NaN  "
      ]
     },
     "execution_count": 192,
     "metadata": {},
     "output_type": "execute_result"
    }
   ],
   "source": [
    "# Create new columns with ranking position of each team\n",
    "fixtures.insert(1, 'first_position', fixtures['Home Team'].map(ranking.set_index('Team')['Position']))\n",
    "fixtures.insert(2, 'second_position', fixtures['Away Team'].map(ranking.set_index('Team')['Position']))\n",
    "\n",
    "# We only need the group stage games, so we have to slice the dataset\n",
    "fixtures = fixtures.iloc[:48, :]\n",
    "fixtures.tail()"
   ]
  },
  {
   "cell_type": "code",
   "execution_count": 193,
   "metadata": {
    "collapsed": false
   },
   "outputs": [
    {
     "data": {
      "text/html": [
       "<div>\n",
       "<table border=\"1\" class=\"dataframe\">\n",
       "  <thead>\n",
       "    <tr style=\"text-align: right;\">\n",
       "      <th></th>\n",
       "      <th>away_team</th>\n",
       "      <th>home_team</th>\n",
       "      <th>winning_team</th>\n",
       "    </tr>\n",
       "  </thead>\n",
       "  <tbody>\n",
       "    <tr>\n",
       "      <th>0</th>\n",
       "      <td>Saudi Arabia</td>\n",
       "      <td>Russia</td>\n",
       "      <td>None</td>\n",
       "    </tr>\n",
       "    <tr>\n",
       "      <th>1</th>\n",
       "      <td>Egypt</td>\n",
       "      <td>Uruguay</td>\n",
       "      <td>None</td>\n",
       "    </tr>\n",
       "    <tr>\n",
       "      <th>2</th>\n",
       "      <td>Morocco</td>\n",
       "      <td>Iran</td>\n",
       "      <td>None</td>\n",
       "    </tr>\n",
       "    <tr>\n",
       "      <th>3</th>\n",
       "      <td>Spain</td>\n",
       "      <td>Portugal</td>\n",
       "      <td>None</td>\n",
       "    </tr>\n",
       "    <tr>\n",
       "      <th>4</th>\n",
       "      <td>Australia</td>\n",
       "      <td>France</td>\n",
       "      <td>None</td>\n",
       "    </tr>\n",
       "  </tbody>\n",
       "</table>\n",
       "</div>"
      ],
      "text/plain": [
       "      away_team home_team winning_team\n",
       "0  Saudi Arabia    Russia         None\n",
       "1         Egypt   Uruguay         None\n",
       "2       Morocco      Iran         None\n",
       "3         Spain  Portugal         None\n",
       "4     Australia    France         None"
      ]
     },
     "execution_count": 193,
     "metadata": {},
     "output_type": "execute_result"
    }
   ],
   "source": [
    "# Loop to add teams to new prediction dataset based on the ranking position of each team\n",
    "for index, row in fixtures.iterrows():\n",
    "    if row['first_position'] < row['second_position']:\n",
    "        pred_set.append({'home_team': row['Home Team'], 'away_team': row['Away Team'], 'winning_team': None})\n",
    "    else:\n",
    "        pred_set.append({'home_team': row['Away Team'], 'away_team': row['Home Team'], 'winning_team': None})\n",
    "        \n",
    "pred_set = pd.DataFrame(pred_set)\n",
    "backup_pred_set = pred_set\n",
    "\n",
    "pred_set.head()"
   ]
  },
  {
   "cell_type": "code",
   "execution_count": 194,
   "metadata": {
    "collapsed": false
   },
   "outputs": [],
   "source": [
    "# Get dummy variables and drop winning_team column\n",
    "pred_set = pd.get_dummies(pred_set, prefix=['home_team', 'away_team'], columns=['home_team', 'away_team'])"
   ]
  },
  {
   "cell_type": "code",
   "execution_count": 195,
   "metadata": {
    "collapsed": false
   },
   "outputs": [
    {
     "data": {
      "text/plain": [
       "Index(['winning_team', 'home_team_Argentina', 'home_team_Belgium',\n",
       "       'home_team_Brazil', 'home_team_Colombia', 'home_team_Costa Rica',\n",
       "       'home_team_Croatia', 'home_team_Denmark', 'home_team_Egypt',\n",
       "       'home_team_England', 'home_team_France', 'home_team_Germany',\n",
       "       'home_team_Iceland', 'home_team_Iran', 'home_team_Mexico',\n",
       "       'home_team_Peru', 'home_team_Poland', 'home_team_Portugal',\n",
       "       'home_team_Russia', 'home_team_Senegal', 'home_team_Spain',\n",
       "       'home_team_Sweden', 'home_team_Switzerland', 'home_team_Tunisia',\n",
       "       'home_team_Uruguay', 'away_team_Australia', 'away_team_Colombia',\n",
       "       'away_team_Costa Rica', 'away_team_Croatia', 'away_team_Denmark',\n",
       "       'away_team_Egypt', 'away_team_England', 'away_team_Iceland',\n",
       "       'away_team_Iran', 'away_team_Japan', 'away_team_Korea Republic',\n",
       "       'away_team_Mexico', 'away_team_Morocco', 'away_team_Nigeria',\n",
       "       'away_team_Panama', 'away_team_Peru', 'away_team_Russia',\n",
       "       'away_team_Saudi Arabia', 'away_team_Senegal', 'away_team_Serbia',\n",
       "       'away_team_Spain', 'away_team_Sweden', 'away_team_Switzerland',\n",
       "       'away_team_Tunisia'],\n",
       "      dtype='object')"
      ]
     },
     "execution_count": 195,
     "metadata": {},
     "output_type": "execute_result"
    }
   ],
   "source": [
    "pred_set.columns"
   ]
  },
  {
   "cell_type": "code",
   "execution_count": 196,
   "metadata": {
    "collapsed": false
   },
   "outputs": [
    {
     "data": {
      "text/html": [
       "<div>\n",
       "<table border=\"1\" class=\"dataframe\">\n",
       "  <thead>\n",
       "    <tr style=\"text-align: right;\">\n",
       "      <th></th>\n",
       "      <th>home_team_Afghanistan</th>\n",
       "      <th>home_team_Albania</th>\n",
       "      <th>home_team_Algeria</th>\n",
       "      <th>home_team_American Samoa</th>\n",
       "      <th>home_team_Andorra</th>\n",
       "      <th>home_team_Angola</th>\n",
       "      <th>home_team_Anguilla</th>\n",
       "      <th>home_team_Antigua and Barbuda</th>\n",
       "      <th>home_team_Argentina</th>\n",
       "      <th>home_team_Armenia</th>\n",
       "      <th>...</th>\n",
       "      <th>away_team_Virgin Islands</th>\n",
       "      <th>away_team_Wales</th>\n",
       "      <th>away_team_Wallis Islands and Futuna</th>\n",
       "      <th>away_team_Western Australia</th>\n",
       "      <th>away_team_Yemen</th>\n",
       "      <th>away_team_Yemen DPR</th>\n",
       "      <th>away_team_Yugoslavia</th>\n",
       "      <th>away_team_Zambia</th>\n",
       "      <th>away_team_Zanzibar</th>\n",
       "      <th>away_team_Zimbabwe</th>\n",
       "    </tr>\n",
       "  </thead>\n",
       "  <tbody>\n",
       "    <tr>\n",
       "      <th>0</th>\n",
       "      <td>0</td>\n",
       "      <td>0</td>\n",
       "      <td>0</td>\n",
       "      <td>0</td>\n",
       "      <td>0</td>\n",
       "      <td>0</td>\n",
       "      <td>0</td>\n",
       "      <td>0</td>\n",
       "      <td>0</td>\n",
       "      <td>0</td>\n",
       "      <td>...</td>\n",
       "      <td>0</td>\n",
       "      <td>0</td>\n",
       "      <td>0</td>\n",
       "      <td>0</td>\n",
       "      <td>0</td>\n",
       "      <td>0</td>\n",
       "      <td>0</td>\n",
       "      <td>0</td>\n",
       "      <td>0</td>\n",
       "      <td>0</td>\n",
       "    </tr>\n",
       "    <tr>\n",
       "      <th>1</th>\n",
       "      <td>0</td>\n",
       "      <td>0</td>\n",
       "      <td>0</td>\n",
       "      <td>0</td>\n",
       "      <td>0</td>\n",
       "      <td>0</td>\n",
       "      <td>0</td>\n",
       "      <td>0</td>\n",
       "      <td>0</td>\n",
       "      <td>0</td>\n",
       "      <td>...</td>\n",
       "      <td>0</td>\n",
       "      <td>0</td>\n",
       "      <td>0</td>\n",
       "      <td>0</td>\n",
       "      <td>0</td>\n",
       "      <td>0</td>\n",
       "      <td>0</td>\n",
       "      <td>0</td>\n",
       "      <td>0</td>\n",
       "      <td>0</td>\n",
       "    </tr>\n",
       "    <tr>\n",
       "      <th>2</th>\n",
       "      <td>0</td>\n",
       "      <td>0</td>\n",
       "      <td>0</td>\n",
       "      <td>0</td>\n",
       "      <td>0</td>\n",
       "      <td>0</td>\n",
       "      <td>0</td>\n",
       "      <td>0</td>\n",
       "      <td>0</td>\n",
       "      <td>0</td>\n",
       "      <td>...</td>\n",
       "      <td>0</td>\n",
       "      <td>0</td>\n",
       "      <td>0</td>\n",
       "      <td>0</td>\n",
       "      <td>0</td>\n",
       "      <td>0</td>\n",
       "      <td>0</td>\n",
       "      <td>0</td>\n",
       "      <td>0</td>\n",
       "      <td>0</td>\n",
       "    </tr>\n",
       "    <tr>\n",
       "      <th>3</th>\n",
       "      <td>0</td>\n",
       "      <td>0</td>\n",
       "      <td>0</td>\n",
       "      <td>0</td>\n",
       "      <td>0</td>\n",
       "      <td>0</td>\n",
       "      <td>0</td>\n",
       "      <td>0</td>\n",
       "      <td>0</td>\n",
       "      <td>0</td>\n",
       "      <td>...</td>\n",
       "      <td>0</td>\n",
       "      <td>0</td>\n",
       "      <td>0</td>\n",
       "      <td>0</td>\n",
       "      <td>0</td>\n",
       "      <td>0</td>\n",
       "      <td>0</td>\n",
       "      <td>0</td>\n",
       "      <td>0</td>\n",
       "      <td>0</td>\n",
       "    </tr>\n",
       "    <tr>\n",
       "      <th>4</th>\n",
       "      <td>0</td>\n",
       "      <td>0</td>\n",
       "      <td>0</td>\n",
       "      <td>0</td>\n",
       "      <td>0</td>\n",
       "      <td>0</td>\n",
       "      <td>0</td>\n",
       "      <td>0</td>\n",
       "      <td>0</td>\n",
       "      <td>0</td>\n",
       "      <td>...</td>\n",
       "      <td>0</td>\n",
       "      <td>0</td>\n",
       "      <td>0</td>\n",
       "      <td>0</td>\n",
       "      <td>0</td>\n",
       "      <td>0</td>\n",
       "      <td>0</td>\n",
       "      <td>0</td>\n",
       "      <td>0</td>\n",
       "      <td>0</td>\n",
       "    </tr>\n",
       "  </tbody>\n",
       "</table>\n",
       "<p>5 rows × 484 columns</p>\n",
       "</div>"
      ],
      "text/plain": [
       "   home_team_Afghanistan  home_team_Albania  home_team_Algeria  \\\n",
       "0                      0                  0                  0   \n",
       "1                      0                  0                  0   \n",
       "2                      0                  0                  0   \n",
       "3                      0                  0                  0   \n",
       "4                      0                  0                  0   \n",
       "\n",
       "   home_team_American Samoa  home_team_Andorra  home_team_Angola  \\\n",
       "0                         0                  0                 0   \n",
       "1                         0                  0                 0   \n",
       "2                         0                  0                 0   \n",
       "3                         0                  0                 0   \n",
       "4                         0                  0                 0   \n",
       "\n",
       "   home_team_Anguilla  home_team_Antigua and Barbuda  home_team_Argentina  \\\n",
       "0                   0                              0                    0   \n",
       "1                   0                              0                    0   \n",
       "2                   0                              0                    0   \n",
       "3                   0                              0                    0   \n",
       "4                   0                              0                    0   \n",
       "\n",
       "   home_team_Armenia         ...          away_team_Virgin Islands  \\\n",
       "0                  0         ...                                 0   \n",
       "1                  0         ...                                 0   \n",
       "2                  0         ...                                 0   \n",
       "3                  0         ...                                 0   \n",
       "4                  0         ...                                 0   \n",
       "\n",
       "   away_team_Wales  away_team_Wallis Islands and Futuna  \\\n",
       "0                0                                    0   \n",
       "1                0                                    0   \n",
       "2                0                                    0   \n",
       "3                0                                    0   \n",
       "4                0                                    0   \n",
       "\n",
       "   away_team_Western Australia  away_team_Yemen  away_team_Yemen DPR  \\\n",
       "0                            0                0                    0   \n",
       "1                            0                0                    0   \n",
       "2                            0                0                    0   \n",
       "3                            0                0                    0   \n",
       "4                            0                0                    0   \n",
       "\n",
       "   away_team_Yugoslavia  away_team_Zambia  away_team_Zanzibar  \\\n",
       "0                     0                 0                   0   \n",
       "1                     0                 0                   0   \n",
       "2                     0                 0                   0   \n",
       "3                     0                 0                   0   \n",
       "4                     0                 0                   0   \n",
       "\n",
       "   away_team_Zimbabwe  \n",
       "0                   0  \n",
       "1                   0  \n",
       "2                   0  \n",
       "3                   0  \n",
       "4                   0  \n",
       "\n",
       "[5 rows x 484 columns]"
      ]
     },
     "execution_count": 196,
     "metadata": {},
     "output_type": "execute_result"
    }
   ],
   "source": [
    "# Add missing columns compared to the model's training dataset\n",
    "# Add missing columns compared to the model's training dataset\n",
    "missing_cols = set(final.columns) - set(pred_set.columns)\n",
    "for c in missing_cols:\n",
    "    pred_set[c] = 0\n",
    "pred_set = pred_set[final.columns]\n",
    "# Remove winning team column\n",
    "pred_set = pred_set.drop(['winning_team'], axis=1)\n",
    "\n",
    "pred_set.head()"
   ]
  },
  {
   "cell_type": "markdown",
   "metadata": {},
   "source": [
    "### Deploy the model"
   ]
  },
  {
   "cell_type": "code",
   "execution_count": 197,
   "metadata": {
    "collapsed": false
   },
   "outputs": [
    {
     "name": "stdout",
     "output_type": "stream",
     "text": [
      "Russia and Saudi Arabia\n",
      "Winner: Russia\n",
      "Probability of Russia winning:  0.723\n",
      "Probability of Tie:  0.133\n",
      "Probability of Saudi Arabia winning:  0.145\n",
      "\n",
      "Uruguay and Egypt\n",
      "Winner: Uruguay\n",
      "Probability of Uruguay winning:  0.579\n",
      "Probability of Tie:  0.348\n",
      "Probability of Egypt winning:  0.073\n",
      "\n",
      "Iran and Morocco\n",
      "Winner: Iran\n",
      "Probability of Iran winning:  0.483\n",
      "Probability of Tie:  0.316\n",
      "Probability of Morocco winning:  0.201\n",
      "\n",
      "Portugal and Spain\n",
      "Winner: Spain\n",
      "Probability of Portugal winning:  0.285\n",
      "Probability of Tie:  0.328\n",
      "Probability of Spain winning:  0.387\n",
      "\n",
      "France and Australia\n",
      "Winner: France\n",
      "Probability of France winning:  0.643\n",
      "Probability of Tie:  0.201\n",
      "Probability of Australia winning:  0.156\n",
      "\n",
      "Argentina and Iceland\n",
      "Winner: Argentina\n",
      "Probability of Argentina winning:  0.821\n",
      "Probability of Tie:  0.135\n",
      "Probability of Iceland winning:  0.044\n",
      "\n",
      "Peru and Denmark\n",
      "Winner: Peru\n",
      "Probability of Peru winning:  0.417\n",
      "Probability of Tie:  0.208\n",
      "Probability of Denmark winning:  0.375\n",
      "\n",
      "Croatia and Nigeria\n",
      "Winner: Croatia\n",
      "Probability of Croatia winning:  0.524\n",
      "Probability of Tie:  0.355\n",
      "Probability of Nigeria winning:  0.121\n",
      "\n",
      "Costa Rica and Serbia\n",
      "Winner: Costa Rica\n",
      "Probability of Costa Rica winning:  0.411\n",
      "Probability of Tie:  0.277\n",
      "Probability of Serbia winning:  0.312\n",
      "\n",
      "Germany and Mexico\n",
      "Winner: Germany\n",
      "Probability of Germany winning:  0.645\n",
      "Probability of Tie:  0.181\n",
      "Probability of Mexico winning:  0.174\n",
      "\n",
      "Brazil and Switzerland\n",
      "Winner: Brazil\n",
      "Probability of Brazil winning:  0.782\n",
      "Probability of Tie:  0.157\n",
      "Probability of Switzerland winning:  0.061\n",
      "\n",
      "Sweden and Korea Republic\n",
      "Winner: Sweden\n",
      "Probability of Sweden winning:  0.593\n",
      "Probability of Tie:  0.234\n",
      "Probability of Korea Republic winning:  0.172\n",
      "\n",
      "Belgium and Panama\n",
      "Winner: Belgium\n",
      "Probability of Belgium winning:  0.772\n",
      "Probability of Tie:  0.168\n",
      "Probability of Panama winning:  0.061\n",
      "\n",
      "England and Tunisia\n",
      "Winner: England\n",
      "Probability of England winning:  0.692\n",
      "Probability of Tie:  0.233\n",
      "Probability of Tunisia winning:  0.075\n",
      "\n",
      "Colombia and Japan\n",
      "Winner: Colombia\n",
      "Probability of Colombia winning:  0.607\n",
      "Probability of Tie:  0.140\n",
      "Probability of Japan winning:  0.253\n",
      "\n",
      "Poland and Senegal\n",
      "Winner: Poland\n",
      "Probability of Poland winning:  0.587\n",
      "Probability of Tie:  0.259\n",
      "Probability of Senegal winning:  0.154\n",
      "\n",
      "Egypt and Russia\n",
      "Winner: Russia\n",
      "Probability of Egypt winning:  0.249\n",
      "Probability of Tie:  0.267\n",
      "Probability of Russia winning:  0.484\n",
      "\n",
      "Portugal and Morocco\n",
      "Winner: Portugal\n",
      "Probability of Portugal winning:  0.581\n",
      "Probability of Tie:  0.296\n",
      "Probability of Morocco winning:  0.123\n",
      "\n",
      "Uruguay and Saudi Arabia\n",
      "Winner: Uruguay\n",
      "Probability of Uruguay winning:  0.691\n",
      "Probability of Tie:  0.189\n",
      "Probability of Saudi Arabia winning:  0.120\n",
      "\n",
      "Spain and Iran\n",
      "Winner: Spain\n",
      "Probability of Spain winning:  0.671\n",
      "Probability of Tie:  0.229\n",
      "Probability of Iran winning:  0.100\n",
      "\n",
      "Denmark and Australia\n",
      "Winner: Denmark\n",
      "Probability of Denmark winning:  0.575\n",
      "Probability of Tie:  0.191\n",
      "Probability of Australia winning:  0.234\n",
      "\n",
      "France and Peru\n",
      "Winner: France\n",
      "Probability of France winning:  0.625\n",
      "Probability of Tie:  0.257\n",
      "Probability of Peru winning:  0.118\n",
      "\n",
      "Argentina and Croatia\n",
      "Winner: Argentina\n",
      "Probability of Argentina winning:  0.565\n",
      "Probability of Tie:  0.269\n",
      "Probability of Croatia winning:  0.166\n",
      "\n",
      "Brazil and Costa Rica\n",
      "Winner: Brazil\n",
      "Probability of Brazil winning:  0.808\n",
      "Probability of Tie:  0.159\n",
      "Probability of Costa Rica winning:  0.033\n",
      "\n",
      "Iceland and Nigeria\n",
      "Winner: Nigeria\n",
      "Probability of Iceland winning:  0.294\n",
      "Probability of Tie:  0.277\n",
      "Probability of Nigeria winning:  0.429\n",
      "\n",
      "Switzerland and Serbia\n",
      "Winner: Switzerland\n",
      "Probability of Switzerland winning:  0.441\n",
      "Probability of Tie:  0.179\n",
      "Probability of Serbia winning:  0.380\n",
      "\n",
      "Belgium and Tunisia\n",
      "Winner: Belgium\n",
      "Probability of Belgium winning:  0.616\n",
      "Probability of Tie:  0.247\n",
      "Probability of Tunisia winning:  0.137\n",
      "\n",
      "Mexico and Korea Republic\n",
      "Winner: Mexico\n",
      "Probability of Mexico winning:  0.563\n",
      "Probability of Tie:  0.230\n",
      "Probability of Korea Republic winning:  0.208\n",
      "\n",
      "Germany and Sweden\n",
      "Winner: Germany\n",
      "Probability of Germany winning:  0.603\n",
      "Probability of Tie:  0.199\n",
      "Probability of Sweden winning:  0.198\n",
      "\n",
      "England and Panama\n",
      "Winner: England\n",
      "Probability of England winning:  0.809\n",
      "Probability of Tie:  0.159\n",
      "Probability of Panama winning:  0.032\n",
      "\n",
      "Senegal and Japan\n",
      "Winner: Senegal\n",
      "Probability of Senegal winning:  0.479\n",
      "Probability of Tie:  0.232\n",
      "Probability of Japan winning:  0.290\n",
      "\n",
      "Poland and Colombia\n",
      "Winner: Poland\n",
      "Probability of Poland winning:  0.402\n",
      "Probability of Tie:  0.372\n",
      "Probability of Colombia winning:  0.226\n",
      "\n",
      "Uruguay and Russia\n",
      "Winner: Uruguay\n",
      "Probability of Uruguay winning:  0.388\n",
      "Probability of Tie:  0.387\n",
      "Probability of Russia winning:  0.225\n",
      "\n",
      "Egypt and Saudi Arabia\n",
      "Winner: Egypt\n",
      "Probability of Egypt winning:  0.563\n",
      "Probability of Tie:  0.125\n",
      "Probability of Saudi Arabia winning:  0.312\n",
      "\n",
      "Portugal and Iran\n",
      "Winner: Portugal\n",
      "Probability of Portugal winning:  0.560\n",
      "Probability of Tie:  0.284\n",
      "Probability of Iran winning:  0.156\n",
      "\n",
      "Spain and Morocco\n",
      "Winner: Spain\n",
      "Probability of Spain winning:  0.682\n",
      "Probability of Tie:  0.240\n",
      "Probability of Morocco winning:  0.078\n",
      "\n",
      "France and Denmark\n",
      "Winner: France\n",
      "Probability of France winning:  0.609\n",
      "Probability of Tie:  0.199\n",
      "Probability of Denmark winning:  0.192\n",
      "\n",
      "Peru and Australia\n",
      "Winner: Peru\n",
      "Probability of Peru winning:  0.463\n",
      "Probability of Tie:  0.213\n",
      "Probability of Australia winning:  0.324\n",
      "\n",
      "Argentina and Nigeria\n",
      "Winner: Argentina\n",
      "Probability of Argentina winning:  0.698\n",
      "Probability of Tie:  0.239\n",
      "Probability of Nigeria winning:  0.063\n",
      "\n",
      "Croatia and Iceland\n",
      "Winner: Croatia\n",
      "Probability of Croatia winning:  0.703\n",
      "Probability of Tie:  0.212\n",
      "Probability of Iceland winning:  0.086\n",
      "\n",
      "Mexico and Sweden\n",
      "Winner: Mexico\n",
      "Probability of Mexico winning:  0.468\n",
      "Probability of Tie:  0.228\n",
      "Probability of Sweden winning:  0.303\n",
      "\n",
      "Germany and Korea Republic\n",
      "Winner: Germany\n",
      "Probability of Germany winning:  0.677\n",
      "Probability of Tie:  0.196\n",
      "Probability of Korea Republic winning:  0.127\n",
      "\n",
      "Brazil and Serbia\n",
      "Winner: Brazil\n",
      "Probability of Brazil winning:  0.747\n",
      "Probability of Tie:  0.161\n",
      "Probability of Serbia winning:  0.092\n",
      "\n",
      "Switzerland and Costa Rica\n",
      "Winner: Switzerland\n",
      "Probability of Switzerland winning:  0.633\n",
      "Probability of Tie:  0.189\n",
      "Probability of Costa Rica winning:  0.178\n",
      "\n",
      "Poland and Japan\n",
      "Winner: Poland\n",
      "Probability of Poland winning:  0.625\n",
      "Probability of Tie:  0.182\n",
      "Probability of Japan winning:  0.193\n",
      "\n",
      "Colombia and Senegal\n",
      "Winner: Colombia\n",
      "Probability of Colombia winning:  0.582\n",
      "Probability of Tie:  0.208\n",
      "Probability of Senegal winning:  0.209\n",
      "\n",
      "Tunisia and Panama\n",
      "Winner: Tunisia\n",
      "Probability of Tunisia winning:  0.682\n",
      "Probability of Tie:  0.224\n",
      "Probability of Panama winning:  0.093\n",
      "\n",
      "Belgium and England\n",
      "Winner: England\n",
      "Probability of Belgium winning:  0.282\n",
      "Probability of Tie:  0.256\n",
      "Probability of England winning:  0.462\n",
      "\n"
     ]
    }
   ],
   "source": [
    "predictions = logreg.predict(pred_set)\n",
    "for i in range(fixtures.shape[0]):\n",
    "    print(backup_pred_set.iloc[i, 1] + \" and \" + backup_pred_set.iloc[i, 0])\n",
    "    if predictions[i] == 2:\n",
    "        print(\"Winner: \" + backup_pred_set.iloc[i, 1])\n",
    "    elif predictions[i] == 1:\n",
    "        print(\"Tie\")\n",
    "    elif predictions[i] == 0:\n",
    "        print(\"Winner: \" + backup_pred_set.iloc[i, 0])\n",
    "    print('Probability of ' + backup_pred_set.iloc[i, 1] + ' winning: ', '%.3f'%(logreg.predict_proba(pred_set)[i][2]))\n",
    "    print('Probability of Tie: ', '%.3f'%(logreg.predict_proba(pred_set)[i][1]))\n",
    "    print('Probability of ' + backup_pred_set.iloc[i, 0] + ' winning: ', '%.3f'%(logreg.predict_proba(pred_set)[i][0]))\n",
    "    print(\"\")\n"
   ]
  },
  {
   "cell_type": "markdown",
   "metadata": {},
   "source": [
    "**How to improve Accuracy**\n",
    "\n",
    "1. Hyperparametric Tuning\n",
    "2. Increase More Features"
   ]
  },
  {
   "cell_type": "code",
   "execution_count": null,
   "metadata": {
    "collapsed": true
   },
   "outputs": [],
   "source": []
  }
 ],
 "metadata": {
  "kernelspec": {
   "display_name": "Python 3",
   "language": "python",
   "name": "python3"
  },
  "language_info": {
   "codemirror_mode": {
    "name": "ipython",
    "version": 3
   },
   "file_extension": ".py",
   "mimetype": "text/x-python",
   "name": "python",
   "nbconvert_exporter": "python",
   "pygments_lexer": "ipython3",
   "version": "3.6.1"
  }
 },
 "nbformat": 4,
 "nbformat_minor": 2
}
